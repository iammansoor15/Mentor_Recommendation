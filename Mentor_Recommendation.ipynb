{
 "cells": [
  {
   "cell_type": "code",
   "execution_count": null,
   "id": "8b9542ee-c20c-447e-b599-23bc717a8996",
   "metadata": {},
   "outputs": [],
   "source": [
    "import pandas as pd\n",
    "from sklearn.feature_extraction.text import TfidfVectorizer\n",
    "from sklearn.metrics.pairwise import cosine_similarity"
   ]
  },
  {
   "cell_type": "code",
   "execution_count": null,
   "id": "9a1b5b19-9339-4314-bb1d-9be0248338f0",
   "metadata": {},
   "outputs": [],
   "source": [
    "def load_mentor_data(filename):\n",
    "    df = pd.read_csv(filename)\n",
    "    df['profile'] = (\n",
    "        (df['subjects'] + \" \") * 3 +  \n",
    "        (df['college'] + \" \") * 2 +   \n",
    "        df['languages_spoken'] + \" \" +\n",
    "        df['mentorship_style'] + \" \" +\n",
    "        df['available_times'] + \" \" +\n",
    "        df['mode_of_mentorship']\n",
    "    )\n",
    "    return df\n"
   ]
  },
  {
   "cell_type": "code",
   "execution_count": null,
   "id": "4ec44c05-7ac7-4495-a3db-5709bc8e9869",
   "metadata": {},
   "outputs": [],
   "source": [
    "def get_aspirant_input():\n",
    "    print(\"📋 Please answer the following questions:\\n\")\n",
    "    preferred_subjects = input(\"1. What are your preferred subjects (comma-separated)?\\n> \")\n",
    "    target_college = input(\"2. Which college are you targeting?\\n> \")\n",
    "    preparation_level = input(\"3. What is your current preparation level? (Beginner/Intermediate/Advanced)\\n> \")\n",
    "    learning_style = input(\"4. What is your preferred learning style? (Structured/Flexible/Friendly/Strict)\\n> \")\n",
    "    languages_spoken = input(\"5. What languages can you speak  \")\n",
    "\n",
    "    profile = preferred_subjects + \" \" + target_college + \" \" + learning_style + \" \" + languages_spoken\n",
    "    return profile"
   ]
  },
  {
   "cell_type": "code",
   "execution_count": null,
   "id": "c8805fe8-760d-448a-bf5f-a1b2ca1c334f",
   "metadata": {},
   "outputs": [],
   "source": [
    "def recommend_mentors(mentors_df, aspirant_profile, top_n=3):\n",
    "    corpus = mentors_df['profile'].tolist() + [aspirant_profile]\n",
    "    vectorizer = TfidfVectorizer()\n",
    "    vectors = vectorizer.fit_transform(corpus)\n",
    "\n",
    "    similarities = cosine_similarity(vectors[-1], vectors[:-1]).flatten()\n",
    "    top_indices = similarities.argsort()[-top_n:][::-1]\n",
    "    return mentors_df.iloc[top_indices]"
   ]
  },
  {
   "cell_type": "code",
   "execution_count": null,
   "id": "05902370-fc53-4962-81d0-1aeb759f2d50",
   "metadata": {},
   "outputs": [],
   "source": [
    "def display_recommendations(top_mentors):\n",
    "    print(\"\\nTop 3 Mentor Recommendations:\\n\")\n",
    "    for _, row in top_mentors.iterrows():\n",
    "        print(f\"Name: {row['name']}\")\n",
    "        print(f\"College: {row['college']}\")\n",
    "        print(f\"Subjects: {row['subjects']}\")\n",
    "        print(f\"Languages Spoken: {row['languages_spoken']}\")\n",
    "        print(f\"Mentorship Style: {row['mentorship_style']}\")\n",
    "        print(f\"Available Times: {row['available_times']}\")\n",
    "        print(f\"Mode of Mentorship: {row['mode_of_mentorship']}\")\n",
    "        print(f\"Years of Experience: {row['years_of_experience']} years\\n\")\n"
   ]
  },
  {
   "cell_type": "code",
   "execution_count": null,
   "id": "3730a012-5bf7-4b4c-870e-54df2fc8653c",
   "metadata": {},
   "outputs": [],
   "source": [
    "if __name__ == \"__main__\":\n",
    "    mentors = load_mentor_data(\"mentors_extended.csv\")\n",
    "    aspirant_profile = get_aspirant_input()\n",
    "    top_mentors = recommend_mentors(mentors, aspirant_profile)\n",
    "    display_recommendations(top_mentors)"
   ]
  }
 ],
 "metadata": {
  "kernelspec": {
   "display_name": "Python 3",
   "language": "python",
   "name": "python3"
  },
  "language_info": {
   "codemirror_mode": {
    "name": "ipython",
    "version": 3
   },
   "file_extension": ".py",
   "mimetype": "text/x-python",
   "name": "python",
   "nbconvert_exporter": "python",
   "pygments_lexer": "ipython3",
   "version": "3.12.10"
  }
 },
 "nbformat": 4,
 "nbformat_minor": 5
}
